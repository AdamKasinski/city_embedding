{
 "cells": [
  {
   "cell_type": "code",
   "execution_count": 12,
   "id": "e1513afb",
   "metadata": {},
   "outputs": [
    {
     "name": "stderr",
     "output_type": "stream",
     "text": [
      "WARNING: replacing module OSMXGraph.\n",
      "WARNING: replacing module OSMXGraph.\n"
     ]
    }
   ],
   "source": [
    "using Distributions\n",
    "include(\"../OSMXGraph.jl/src/OSMXGraph.jl\")\n",
    "include(\"node2vec.jl\")\n",
    "using .OSMXGraph\n",
    "using Graphs, Random, SparseArrays, Word2Vec, OSMToolset"
   ]
  },
  {
   "cell_type": "code",
   "execution_count": null,
   "id": "9832dd66",
   "metadata": {},
   "outputs": [
    {
     "data": {
      "text/plain": [
       "13-element Vector{String}:\n",
       " \"motorway\"\n",
       " \"trunk\"\n",
       " \"primary\"\n",
       " \"secondary\"\n",
       " \"tertiary\"\n",
       " \"residential\"\n",
       " \"service\"\n",
       " \"living_street\"\n",
       " \"motorway_link\"\n",
       " \"trunk_link\"\n",
       " \"primary_link\"\n",
       " \"secondary_link\"\n",
       " \"tertiary_link\""
      ]
     },
     "metadata": {},
     "output_type": "display_data"
    }
   ],
   "source": [
    "dir_in = \"data\"\n",
    "road_types = [\"motorway\", \"trunk\", \"primary\", \"secondary\", \n",
    "            \"tertiary\", \"residential\", \"service\", \"living_street\", \n",
    "            \"motorway_link\", \"trunk_link\", \"primary_link\", \"secondary_link\", \n",
    "            \"tertiary_link\"]"
   ]
  },
  {
   "cell_type": "code",
   "execution_count": 3,
   "id": "d42b4548",
   "metadata": {},
   "outputs": [
    {
     "data": {
      "text/html": [
       "<div><div style = \"float: left;\"><span>8186×11 DataFrame</span></div><div style = \"float: right;\"><span style = \"font-style: italic;\">8161 rows omitted</span></div><div style = \"clear: both;\"></div></div><div class = \"data-frame\" style = \"overflow-x: scroll;\"><table class = \"data-frame\" style = \"margin-bottom: 6px;\"><thead><tr class = \"header\"><th class = \"rowNumber\" style = \"font-weight: bold; text-align: right;\">Row</th><th style = \"text-align: left;\">elemtype</th><th style = \"text-align: left;\">elemid</th><th style = \"text-align: left;\">nodeid</th><th style = \"text-align: left;\">lat</th><th style = \"text-align: left;\">lon</th><th style = \"text-align: left;\">key</th><th style = \"text-align: left;\">value</th><th style = \"text-align: left;\">group</th><th style = \"text-align: left;\">influence</th><th style = \"text-align: left;\">range</th><th style = \"text-align: left;\">nearest_road_node</th></tr><tr class = \"subheader headerLastRow\"><th class = \"rowNumber\" style = \"font-weight: bold; text-align: right;\"></th><th title = \"Symbol\" style = \"text-align: left;\">Symbol</th><th title = \"Int64\" style = \"text-align: left;\">Int64</th><th title = \"Int64\" style = \"text-align: left;\">Int64</th><th title = \"Float64\" style = \"text-align: left;\">Float64</th><th title = \"Float64\" style = \"text-align: left;\">Float64</th><th title = \"String\" style = \"text-align: left;\">String</th><th title = \"String\" style = \"text-align: left;\">String</th><th title = \"Symbol\" style = \"text-align: left;\">Symbol</th><th title = \"Float64\" style = \"text-align: left;\">Float64</th><th title = \"Float64\" style = \"text-align: left;\">Float64</th><th title = \"Int64\" style = \"text-align: left;\">Int64</th></tr></thead><tbody><tr><td class = \"rowNumber\" style = \"font-weight: bold; text-align: right;\">1</td><td style = \"text-align: left;\">node</td><td style = \"text-align: right;\">31725030</td><td style = \"text-align: right;\">31725030</td><td style = \"text-align: right;\">52.1934</td><td style = \"text-align: right;\">20.9805</td><td style = \"text-align: left;\">public_transport</td><td style = \"text-align: left;\">stop_position</td><td style = \"text-align: left;\">transport</td><td style = \"text-align: right;\">5.0</td><td style = \"text-align: right;\">300.0</td><td style = \"text-align: right;\">5969</td></tr><tr><td class = \"rowNumber\" style = \"font-weight: bold; text-align: right;\">2</td><td style = \"text-align: left;\">node</td><td style = \"text-align: right;\">31917352</td><td style = \"text-align: right;\">31917352</td><td style = \"text-align: right;\">52.2171</td><td style = \"text-align: right;\">21.0065</td><td style = \"text-align: left;\">public_transport</td><td style = \"text-align: left;\">stop_position</td><td style = \"text-align: left;\">transport</td><td style = \"text-align: right;\">5.0</td><td style = \"text-align: right;\">300.0</td><td style = \"text-align: right;\">1315</td></tr><tr><td class = \"rowNumber\" style = \"font-weight: bold; text-align: right;\">3</td><td style = \"text-align: left;\">node</td><td style = \"text-align: right;\">32553132</td><td style = \"text-align: right;\">32553132</td><td style = \"text-align: right;\">52.2202</td><td style = \"text-align: right;\">20.9719</td><td style = \"text-align: left;\">public_transport</td><td style = \"text-align: left;\">stop_position</td><td style = \"text-align: left;\">transport</td><td style = \"text-align: right;\">5.0</td><td style = \"text-align: right;\">300.0</td><td style = \"text-align: right;\">2256</td></tr><tr><td class = \"rowNumber\" style = \"font-weight: bold; text-align: right;\">4</td><td style = \"text-align: left;\">node</td><td style = \"text-align: right;\">32596178</td><td style = \"text-align: right;\">32596178</td><td style = \"text-align: right;\">52.2233</td><td style = \"text-align: right;\">20.9986</td><td style = \"text-align: left;\">public_transport</td><td style = \"text-align: left;\">stop_position</td><td style = \"text-align: left;\">transport</td><td style = \"text-align: right;\">5.0</td><td style = \"text-align: right;\">300.0</td><td style = \"text-align: right;\">3488</td></tr><tr><td class = \"rowNumber\" style = \"font-weight: bold; text-align: right;\">5</td><td style = \"text-align: left;\">node</td><td style = \"text-align: right;\">33124312</td><td style = \"text-align: right;\">33124312</td><td style = \"text-align: right;\">52.2257</td><td style = \"text-align: right;\">20.9906</td><td style = \"text-align: left;\">public_transport</td><td style = \"text-align: left;\">stop_position</td><td style = \"text-align: left;\">transport</td><td style = \"text-align: right;\">5.0</td><td style = \"text-align: right;\">300.0</td><td style = \"text-align: right;\">2064</td></tr><tr><td class = \"rowNumber\" style = \"font-weight: bold; text-align: right;\">6</td><td style = \"text-align: left;\">node</td><td style = \"text-align: right;\">33233439</td><td style = \"text-align: right;\">33233439</td><td style = \"text-align: right;\">52.1968</td><td style = \"text-align: right;\">20.9661</td><td style = \"text-align: left;\">public_transport</td><td style = \"text-align: left;\">stop_position</td><td style = \"text-align: left;\">transport</td><td style = \"text-align: right;\">5.0</td><td style = \"text-align: right;\">300.0</td><td style = \"text-align: right;\">1406</td></tr><tr><td class = \"rowNumber\" style = \"font-weight: bold; text-align: right;\">7</td><td style = \"text-align: left;\">node</td><td style = \"text-align: right;\">34675906</td><td style = \"text-align: right;\">34675906</td><td style = \"text-align: right;\">52.222</td><td style = \"text-align: right;\">20.9615</td><td style = \"text-align: left;\">public_transport</td><td style = \"text-align: left;\">stop_position</td><td style = \"text-align: left;\">transport</td><td style = \"text-align: right;\">5.0</td><td style = \"text-align: right;\">300.0</td><td style = \"text-align: right;\">5020</td></tr><tr><td class = \"rowNumber\" style = \"font-weight: bold; text-align: right;\">8</td><td style = \"text-align: left;\">node</td><td style = \"text-align: right;\">34815624</td><td style = \"text-align: right;\">34815624</td><td style = \"text-align: right;\">52.2276</td><td style = \"text-align: right;\">20.9471</td><td style = \"text-align: left;\">public_transport</td><td style = \"text-align: left;\">stop_position</td><td style = \"text-align: left;\">transport</td><td style = \"text-align: right;\">5.0</td><td style = \"text-align: right;\">300.0</td><td style = \"text-align: right;\">3778</td></tr><tr><td class = \"rowNumber\" style = \"font-weight: bold; text-align: right;\">9</td><td style = \"text-align: left;\">node</td><td style = \"text-align: right;\">119902337</td><td style = \"text-align: right;\">119902337</td><td style = \"text-align: right;\">52.2107</td><td style = \"text-align: right;\">20.9777</td><td style = \"text-align: left;\">public_transport</td><td style = \"text-align: left;\">stop_position</td><td style = \"text-align: left;\">transport</td><td style = \"text-align: right;\">5.0</td><td style = \"text-align: right;\">300.0</td><td style = \"text-align: right;\">2202</td></tr><tr><td class = \"rowNumber\" style = \"font-weight: bold; text-align: right;\">10</td><td style = \"text-align: left;\">node</td><td style = \"text-align: right;\">119902337</td><td style = \"text-align: right;\">119902337</td><td style = \"text-align: right;\">52.2107</td><td style = \"text-align: right;\">20.9777</td><td style = \"text-align: left;\">railway</td><td style = \"text-align: left;\">tram_stop</td><td style = \"text-align: left;\">transport</td><td style = \"text-align: right;\">5.0</td><td style = \"text-align: right;\">300.0</td><td style = \"text-align: right;\">2202</td></tr><tr><td class = \"rowNumber\" style = \"font-weight: bold; text-align: right;\">11</td><td style = \"text-align: left;\">node</td><td style = \"text-align: right;\">119902485</td><td style = \"text-align: right;\">119902485</td><td style = \"text-align: right;\">52.2114</td><td style = \"text-align: right;\">20.9768</td><td style = \"text-align: left;\">public_transport</td><td style = \"text-align: left;\">stop_position</td><td style = \"text-align: left;\">transport</td><td style = \"text-align: right;\">5.0</td><td style = \"text-align: right;\">300.0</td><td style = \"text-align: right;\">2066</td></tr><tr><td class = \"rowNumber\" style = \"font-weight: bold; text-align: right;\">12</td><td style = \"text-align: left;\">node</td><td style = \"text-align: right;\">119902485</td><td style = \"text-align: right;\">119902485</td><td style = \"text-align: right;\">52.2114</td><td style = \"text-align: right;\">20.9768</td><td style = \"text-align: left;\">railway</td><td style = \"text-align: left;\">tram_stop</td><td style = \"text-align: left;\">transport</td><td style = \"text-align: right;\">5.0</td><td style = \"text-align: right;\">300.0</td><td style = \"text-align: right;\">2066</td></tr><tr><td class = \"rowNumber\" style = \"font-weight: bold; text-align: right;\">13</td><td style = \"text-align: left;\">node</td><td style = \"text-align: right;\">119902492</td><td style = \"text-align: right;\">119902492</td><td style = \"text-align: right;\">52.2098</td><td style = \"text-align: right;\">20.982</td><td style = \"text-align: left;\">public_transport</td><td style = \"text-align: left;\">stop_position</td><td style = \"text-align: left;\">transport</td><td style = \"text-align: right;\">5.0</td><td style = \"text-align: right;\">300.0</td><td style = \"text-align: right;\">4956</td></tr><tr><td style = \"text-align: right;\">&vellip;</td><td style = \"text-align: right;\">&vellip;</td><td style = \"text-align: right;\">&vellip;</td><td style = \"text-align: right;\">&vellip;</td><td style = \"text-align: right;\">&vellip;</td><td style = \"text-align: right;\">&vellip;</td><td style = \"text-align: right;\">&vellip;</td><td style = \"text-align: right;\">&vellip;</td><td style = \"text-align: right;\">&vellip;</td><td style = \"text-align: right;\">&vellip;</td><td style = \"text-align: right;\">&vellip;</td><td style = \"text-align: right;\">&vellip;</td></tr><tr><td class = \"rowNumber\" style = \"font-weight: bold; text-align: right;\">8175</td><td style = \"text-align: left;\">relation</td><td style = \"text-align: right;\">13192388</td><td style = \"text-align: right;\">197811151</td><td style = \"text-align: right;\">52.2048</td><td style = \"text-align: right;\">20.9999</td><td style = \"text-align: left;\">amenity</td><td style = \"text-align: left;\">university</td><td style = \"text-align: left;\">education</td><td style = \"text-align: right;\">20.0</td><td style = \"text-align: right;\">10000.0</td><td style = \"text-align: right;\">3225</td></tr><tr><td class = \"rowNumber\" style = \"font-weight: bold; text-align: right;\">8176</td><td style = \"text-align: left;\">relation</td><td style = \"text-align: right;\">13489015</td><td style = \"text-align: right;\">180760740</td><td style = \"text-align: right;\">52.2202</td><td style = \"text-align: right;\">21.0072</td><td style = \"text-align: left;\">amenity</td><td style = \"text-align: left;\">university</td><td style = \"text-align: left;\">education</td><td style = \"text-align: right;\">20.0</td><td style = \"text-align: right;\">10000.0</td><td style = \"text-align: right;\">3803</td></tr><tr><td class = \"rowNumber\" style = \"font-weight: bold; text-align: right;\">8177</td><td style = \"text-align: left;\">relation</td><td style = \"text-align: right;\">14674959</td><td style = \"text-align: right;\">10087375705</td><td style = \"text-align: right;\">52.2237</td><td style = \"text-align: right;\">20.9452</td><td style = \"text-align: left;\">leisure</td><td style = \"text-align: left;\">garden</td><td style = \"text-align: left;\">leisure</td><td style = \"text-align: right;\">5.0</td><td style = \"text-align: right;\">500.0</td><td style = \"text-align: right;\">4886</td></tr><tr><td class = \"rowNumber\" style = \"font-weight: bold; text-align: right;\">8178</td><td style = \"text-align: left;\">relation</td><td style = \"text-align: right;\">14688435</td><td style = \"text-align: right;\">9350356741</td><td style = \"text-align: right;\">52.2236</td><td style = \"text-align: right;\">20.9399</td><td style = \"text-align: left;\">leisure</td><td style = \"text-align: left;\">garden</td><td style = \"text-align: left;\">leisure</td><td style = \"text-align: right;\">5.0</td><td style = \"text-align: right;\">500.0</td><td style = \"text-align: right;\">5222</td></tr><tr><td class = \"rowNumber\" style = \"font-weight: bold; text-align: right;\">8179</td><td style = \"text-align: left;\">relation</td><td style = \"text-align: right;\">15453153</td><td style = \"text-align: right;\">10630806722</td><td style = \"text-align: right;\">52.2083</td><td style = \"text-align: right;\">21.002</td><td style = \"text-align: left;\">leisure</td><td style = \"text-align: left;\">track</td><td style = \"text-align: left;\">leisure</td><td style = \"text-align: right;\">5.0</td><td style = \"text-align: right;\">800.0</td><td style = \"text-align: right;\">7018</td></tr><tr><td class = \"rowNumber\" style = \"font-weight: bold; text-align: right;\">8180</td><td style = \"text-align: left;\">relation</td><td style = \"text-align: right;\">15524358</td><td style = \"text-align: right;\">10537599128</td><td style = \"text-align: right;\">52.2256</td><td style = \"text-align: right;\">21.0047</td><td style = \"text-align: left;\">amenity</td><td style = \"text-align: left;\">parking</td><td style = \"text-align: left;\">parking</td><td style = \"text-align: right;\">5.0</td><td style = \"text-align: right;\">250.0</td><td style = \"text-align: right;\">6410</td></tr><tr><td class = \"rowNumber\" style = \"font-weight: bold; text-align: right;\">8181</td><td style = \"text-align: left;\">relation</td><td style = \"text-align: right;\">15524358</td><td style = \"text-align: right;\">10537599128</td><td style = \"text-align: right;\">52.2256</td><td style = \"text-align: right;\">21.0047</td><td style = \"text-align: left;\">parking</td><td style = \"text-align: left;\">surface</td><td style = \"text-align: left;\">parking</td><td style = \"text-align: right;\">5.0</td><td style = \"text-align: right;\">250.0</td><td style = \"text-align: right;\">6410</td></tr><tr><td class = \"rowNumber\" style = \"font-weight: bold; text-align: right;\">8182</td><td style = \"text-align: left;\">relation</td><td style = \"text-align: right;\">16128957</td><td style = \"text-align: right;\">9054630313</td><td style = \"text-align: right;\">52.2112</td><td style = \"text-align: right;\">20.9823</td><td style = \"text-align: left;\">amenity</td><td style = \"text-align: left;\">university</td><td style = \"text-align: left;\">education</td><td style = \"text-align: right;\">20.0</td><td style = \"text-align: right;\">10000.0</td><td style = \"text-align: right;\">3951</td></tr><tr><td class = \"rowNumber\" style = \"font-weight: bold; text-align: right;\">8183</td><td style = \"text-align: left;\">relation</td><td style = \"text-align: right;\">17819404</td><td style = \"text-align: right;\">12040587588</td><td style = \"text-align: right;\">52.2221</td><td style = \"text-align: right;\">20.9363</td><td style = \"text-align: left;\">amenity</td><td style = \"text-align: left;\">parking</td><td style = \"text-align: left;\">parking</td><td style = \"text-align: right;\">5.0</td><td style = \"text-align: right;\">250.0</td><td style = \"text-align: right;\">5220</td></tr><tr><td class = \"rowNumber\" style = \"font-weight: bold; text-align: right;\">8184</td><td style = \"text-align: left;\">relation</td><td style = \"text-align: right;\">17819404</td><td style = \"text-align: right;\">12040587588</td><td style = \"text-align: right;\">52.2221</td><td style = \"text-align: right;\">20.9363</td><td style = \"text-align: left;\">parking</td><td style = \"text-align: left;\">street_side</td><td style = \"text-align: left;\">parking</td><td style = \"text-align: right;\">5.0</td><td style = \"text-align: right;\">250.0</td><td style = \"text-align: right;\">5220</td></tr><tr><td class = \"rowNumber\" style = \"font-weight: bold; text-align: right;\">8185</td><td style = \"text-align: left;\">relation</td><td style = \"text-align: right;\">18230915</td><td style = \"text-align: right;\">378205875</td><td style = \"text-align: right;\">52.217</td><td style = \"text-align: right;\">21.0046</td><td style = \"text-align: left;\">shop</td><td style = \"text-align: left;\">mall</td><td style = \"text-align: left;\">shopping</td><td style = \"text-align: right;\">5.0</td><td style = \"text-align: right;\">500.0</td><td style = \"text-align: right;\">1567</td></tr><tr><td class = \"rowNumber\" style = \"font-weight: bold; text-align: right;\">8186</td><td style = \"text-align: left;\">relation</td><td style = \"text-align: right;\">18245533</td><td style = \"text-align: right;\">9253629769</td><td style = \"text-align: right;\">52.2031</td><td style = \"text-align: right;\">20.9787</td><td style = \"text-align: left;\">leisure</td><td style = \"text-align: left;\">park</td><td style = \"text-align: left;\">leisure</td><td style = \"text-align: right;\">5.0</td><td style = \"text-align: right;\">500.0</td><td style = \"text-align: right;\">3080</td></tr></tbody></table></div>"
      ],
      "text/latex": [
       "\\begin{tabular}{r|cccccccc}\n",
       "\t& elemtype & elemid & nodeid & lat & lon & key & value & \\\\\n",
       "\t\\hline\n",
       "\t& Symbol & Int64 & Int64 & Float64 & Float64 & String & String & \\\\\n",
       "\t\\hline\n",
       "\t1 & node & 31725030 & 31725030 & 52.1934 & 20.9805 & public\\_transport & stop\\_position & $\\dots$ \\\\\n",
       "\t2 & node & 31917352 & 31917352 & 52.2171 & 21.0065 & public\\_transport & stop\\_position & $\\dots$ \\\\\n",
       "\t3 & node & 32553132 & 32553132 & 52.2202 & 20.9719 & public\\_transport & stop\\_position & $\\dots$ \\\\\n",
       "\t4 & node & 32596178 & 32596178 & 52.2233 & 20.9986 & public\\_transport & stop\\_position & $\\dots$ \\\\\n",
       "\t5 & node & 33124312 & 33124312 & 52.2257 & 20.9906 & public\\_transport & stop\\_position & $\\dots$ \\\\\n",
       "\t6 & node & 33233439 & 33233439 & 52.1968 & 20.9661 & public\\_transport & stop\\_position & $\\dots$ \\\\\n",
       "\t7 & node & 34675906 & 34675906 & 52.222 & 20.9615 & public\\_transport & stop\\_position & $\\dots$ \\\\\n",
       "\t8 & node & 34815624 & 34815624 & 52.2276 & 20.9471 & public\\_transport & stop\\_position & $\\dots$ \\\\\n",
       "\t9 & node & 119902337 & 119902337 & 52.2107 & 20.9777 & public\\_transport & stop\\_position & $\\dots$ \\\\\n",
       "\t10 & node & 119902337 & 119902337 & 52.2107 & 20.9777 & railway & tram\\_stop & $\\dots$ \\\\\n",
       "\t11 & node & 119902485 & 119902485 & 52.2114 & 20.9768 & public\\_transport & stop\\_position & $\\dots$ \\\\\n",
       "\t12 & node & 119902485 & 119902485 & 52.2114 & 20.9768 & railway & tram\\_stop & $\\dots$ \\\\\n",
       "\t13 & node & 119902492 & 119902492 & 52.2098 & 20.982 & public\\_transport & stop\\_position & $\\dots$ \\\\\n",
       "\t14 & node & 119902492 & 119902492 & 52.2098 & 20.982 & railway & tram\\_stop & $\\dots$ \\\\\n",
       "\t15 & node & 179695061 & 179695061 & 52.1861 & 20.9545 & public\\_transport & stop\\_position & $\\dots$ \\\\\n",
       "\t16 & node & 179695061 & 179695061 & 52.1861 & 20.9545 & railway & tram\\_stop & $\\dots$ \\\\\n",
       "\t17 & node & 179870514 & 179870514 & 52.219 & 20.9987 & public\\_transport & stop\\_position & $\\dots$ \\\\\n",
       "\t18 & node & 179870514 & 179870514 & 52.219 & 20.9987 & railway & tram\\_stop & $\\dots$ \\\\\n",
       "\t19 & node & 201780847 & 201780847 & 52.2093 & 20.9836 & amenity & pharmacy & $\\dots$ \\\\\n",
       "\t20 & node & 201830837 & 201830837 & 52.219 & 20.9743 & amenity & restaurant & $\\dots$ \\\\\n",
       "\t21 & node & 205028354 & 205028354 & 52.2336 & 20.982 & public\\_transport & stop\\_position & $\\dots$ \\\\\n",
       "\t22 & node & 205028354 & 205028354 & 52.2336 & 20.982 & railway & tram\\_stop & $\\dots$ \\\\\n",
       "\t23 & node & 247441605 & 247441605 & 52.2189 & 20.9834 & public\\_transport & stop\\_position & $\\dots$ \\\\\n",
       "\t24 & node & 247441605 & 247441605 & 52.2189 & 20.9834 & railway & tram\\_stop & $\\dots$ \\\\\n",
       "\t$\\dots$ & $\\dots$ & $\\dots$ & $\\dots$ & $\\dots$ & $\\dots$ & $\\dots$ & $\\dots$ &  \\\\\n",
       "\\end{tabular}\n"
      ],
      "text/plain": [
       "\u001b[1m8186×11 DataFrame\u001b[0m\n",
       "\u001b[1m  Row \u001b[0m│\u001b[1m elemtype \u001b[0m\u001b[1m elemid    \u001b[0m\u001b[1m nodeid      \u001b[0m\u001b[1m lat     \u001b[0m\u001b[1m lon     \u001b[0m\u001b[1m key              \u001b[0m\u001b[1m \u001b[0m ⋯\n",
       "      │\u001b[90m Symbol   \u001b[0m\u001b[90m Int64     \u001b[0m\u001b[90m Int64       \u001b[0m\u001b[90m Float64 \u001b[0m\u001b[90m Float64 \u001b[0m\u001b[90m String           \u001b[0m\u001b[90m \u001b[0m ⋯\n",
       "──────┼─────────────────────────────────────────────────────────────────────────\n",
       "    1 │ node       31725030     31725030  52.1934  20.9805  public_transport   ⋯\n",
       "    2 │ node       31917352     31917352  52.2171  21.0065  public_transport\n",
       "    3 │ node       32553132     32553132  52.2202  20.9719  public_transport\n",
       "    4 │ node       32596178     32596178  52.2233  20.9986  public_transport\n",
       "    5 │ node       33124312     33124312  52.2257  20.9906  public_transport   ⋯\n",
       "    6 │ node       33233439     33233439  52.1968  20.9661  public_transport\n",
       "    7 │ node       34675906     34675906  52.222   20.9615  public_transport\n",
       "    8 │ node       34815624     34815624  52.2276  20.9471  public_transport\n",
       "  ⋮   │    ⋮          ⋮           ⋮          ⋮        ⋮            ⋮           ⋱\n",
       " 8180 │ relation   15524358  10537599128  52.2256  21.0047  amenity            ⋯\n",
       " 8181 │ relation   15524358  10537599128  52.2256  21.0047  parking\n",
       " 8182 │ relation   16128957   9054630313  52.2112  20.9823  amenity\n",
       " 8183 │ relation   17819404  12040587588  52.2221  20.9363  amenity\n",
       " 8184 │ relation   17819404  12040587588  52.2221  20.9363  parking            ⋯\n",
       " 8185 │ relation   18230915    378205875  52.217   21.0046  shop\n",
       " 8186 │ relation   18245533   9253629769  52.2031  20.9787  leisure\n",
       "\u001b[36m                                                 5 columns and 8171 rows omitted\u001b[0m"
      ]
     },
     "metadata": {},
     "output_type": "display_data"
    }
   ],
   "source": [
    "df, sparse_index, road_index, node_ids = OSMXGraph.create_road_graph(\"Ochota.osm\", road_types,\"Ochota_graph.csv\",\"Ochota_nodes.json\",dir_in=dir_in)\n",
    "POI_df = OSMToolset.find_poi(string(dir_in,\"/\",\"Ochota.osm\"))\n",
    "POI_xs = POI_df.lat\n",
    "POI_ys = POI_df.lon\n",
    "poi_with_nearest_points = OSMXGraph.add_nearest_road_point(POI_df,POI_xs, POI_ys, road_index, node_ids)\n"
   ]
  },
  {
   "cell_type": "code",
   "execution_count": 13,
   "id": "d336dfb3",
   "metadata": {},
   "outputs": [
    {
     "data": {
      "text/plain": [
       "10×5 Matrix{Int64}:\n",
       " 2968  2967  2968  2967  2971\n",
       " 6129  6127  6128  6127   277\n",
       " 6532  6539  6536  6537  6533\n",
       " 5988  5723  5721  5723  5988\n",
       " 4662  4665  4662  4665  4662\n",
       "  700  2788  2793  2788   700\n",
       " 7773  7776  7773  7774  7773\n",
       " 5299  5300  5299  5300  5299\n",
       " 4658  7657  4657  4656   961\n",
       "   11  1671  1668     7  7919"
      ]
     },
     "metadata": {},
     "output_type": "display_data"
    }
   ],
   "source": [
    "corp = generate_corpus(10,5,sparse_index,0.3,0.4)"
   ]
  },
  {
   "cell_type": "code",
   "execution_count": null,
   "id": "b14ecc55",
   "metadata": {},
   "outputs": [],
   "source": []
  }
 ],
 "metadata": {
  "kernelspec": {
   "display_name": "Julia 1.11.6",
   "language": "julia",
   "name": "julia-1.11"
  },
  "language_info": {
   "file_extension": ".jl",
   "mimetype": "application/julia",
   "name": "julia",
   "version": "1.11.6"
  }
 },
 "nbformat": 4,
 "nbformat_minor": 5
}
