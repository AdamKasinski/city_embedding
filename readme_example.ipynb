{
 "cells": [
  {
   "cell_type": "markdown",
   "id": "759a9618",
   "metadata": {},
   "source": [
    "### node2vec\n",
    "This repository delivers a Julia implementation of the node2vec algorithm. It handles every step of the pipeline except the final skip‑gram optimiser, \n",
    "which is delegated to Word2Vec.jl so that we can rely on Google’s tested C binary for fast training.\n",
    "\n",
    "### High‑level workflow  \n",
    "\n",
    "1. **Build the graph**  \n",
    "   Convert an OpenStreetMap extract into a sparse adjacency matrix via  *`OSMXGraph.create_road_graph`* or the fallback  *`generate_sparse_matrix`*.  "
   ]
  },
  {
   "cell_type": "code",
   "execution_count": 7,
   "id": "b00215b8",
   "metadata": {},
   "outputs": [
    {
     "name": "stderr",
     "output_type": "stream",
     "text": [
      "WARNING: replacing module OSMXGraph.\n",
      "WARNING: replacing module OSMXGraph.\n"
     ]
    }
   ],
   "source": [
    "using CSV, Word2Vec\n",
    "include(\"../OSMXGraph.jl/src/OSMXGraph.jl\")\n",
    "include(\"node2vec.jl\")\n",
    "using .OSMXGraph"
   ]
  },
  {
   "cell_type": "code",
   "execution_count": 8,
   "id": "9fb216c8",
   "metadata": {},
   "outputs": [
    {
     "data": {
      "text/plain": [
       "13-element Vector{String}:\n",
       " \"motorway\"\n",
       " \"trunk\"\n",
       " \"primary\"\n",
       " \"secondary\"\n",
       " \"tertiary\"\n",
       " \"residential\"\n",
       " \"service\"\n",
       " \"living_street\"\n",
       " \"motorway_link\"\n",
       " \"trunk_link\"\n",
       " \"primary_link\"\n",
       " \"secondary_link\"\n",
       " \"tertiary_link\""
      ]
     },
     "metadata": {},
     "output_type": "display_data"
    }
   ],
   "source": [
    "dir_in = \"data\"\n",
    "dir_out = \"graph_data\"\n",
    "road_types = [\"motorway\", \"trunk\", \"primary\", \"secondary\", \n",
    "            \"tertiary\", \"residential\", \"service\", \"living_street\", \n",
    "            \"motorway_link\", \"trunk_link\", \"primary_link\", \"secondary_link\", \n",
    "            \"tertiary_link\"]"
   ]
  },
  {
   "cell_type": "code",
   "execution_count": 10,
   "id": "f5422a3a",
   "metadata": {},
   "outputs": [
    {
     "data": {
      "text/plain": [
       "8108×8108 SparseMatrixCSC{Int64, Int64} with 15819 stored entries:\n",
       "⎡⣻⣮⣿⣶⢢⡖⠧⣻⡧⣿⢾⢯⣛⣦⡷⡾⠕⣵⡿⡾⠈⡮⣹⣖⡲⢯⠤⢸⢺⢆⣂⡇⠀⠄⠰⢃⡦⢠⡨⡣⎤\n",
       "⎢⣺⣷⣽⣿⡣⡗⡞⢬⣗⣿⣳⠿⢧⣟⡟⢛⣀⣟⣷⢔⣞⠿⣟⡒⢛⣗⣒⡼⠻⡅⢺⣷⡒⠽⣉⡎⢹⣀⢐⣟⎥\n",
       "⎢⢨⠝⢭⠮⢟⢕⢿⣳⣯⣽⢞⣺⠄⡟⢥⣼⣭⣧⣲⡝⢗⣯⠟⡪⣦⣼⢽⠬⡌⢗⢏⢝⣗⡀⠘⢷⢼⣿⣒⣯⎥\n",
       "⎢⣬⣯⡛⣍⠿⣺⢻⣶⡫⠆⣩⡸⣠⡽⠄⢑⢻⢗⣇⣽⡗⡹⢹⢛⡙⣺⡙⢱⣞⠎⡳⣟⢁⠌⡤⠐⢓⢢⠠⠐⎥\n",
       "⎢⣍⡯⢽⣵⣇⡿⡫⠮⣿⣿⡇⣁⡨⣝⣤⣰⡹⡋⠙⢷⣼⢳⢋⡿⠹⢙⡷⣍⣩⠇⣚⡖⢾⣁⡠⢰⣘⠧⠹⣍⎥\n",
       "⎢⡽⣷⣿⡎⣲⣹⣏⡺⡍⢽⢻⣿⣪⣫⡍⡭⡭⡬⢴⣍⠑⠬⣮⠂⠁⠧⠁⡔⡱⠭⣚⣶⡥⠈⠦⠑⣢⢁⢄⣅⎥\n",
       "⎢⡷⣼⣯⢷⣤⠥⣴⡖⣆⣄⢿⣼⠿⣧⡣⡴⣤⣄⡴⢦⡄⠢⣤⣄⠈⣒⣄⢌⣐⣦⠧⣻⠌⠀⣄⢛⢦⣰⠀⠃⎥\n",
       "⎢⡭⣭⣿⢩⣑⣷⢄⢱⣁⣻⡇⠭⢉⣮⡿⣯⣪⢍⠢⣍⣹⣆⢳⡏⢬⣀⡅⠭⣅⡁⢠⡈⡁⠖⠦⣉⢌⣘⠠⡍⎥\n",
       "⎢⢇⣥⣤⢼⠧⣿⣾⠖⡷⠫⡃⡯⠀⢿⡮⢺⣿⣯⡝⠟⣀⡜⠿⡕⣾⠂⠱⢂⢽⢕⡸⠷⠒⣄⢄⠂⣲⡧⠠⣆⎥\n",
       "⎢⣿⡷⢙⢷⣌⢾⣯⣷⢷⣄⡔⢷⠰⣇⡌⢦⣷⠝⣻⣾⣾⣮⣼⡞⠾⣉⣂⠖⣀⣌⣽⣇⡀⡖⡤⣈⡳⡻⠲⢝⎥\n",
       "⎢⣀⠦⣾⡗⣽⣵⡝⡭⢶⣉⡑⡄⠠⠉⠶⣾⣀⢜⡺⡿⠻⣾⠾⡒⢼⢏⢼⣬⣞⡧⠒⠖⢠⡔⠁⡈⣄⡞⠪⡆⎥\n",
       "⎢⢸⢶⢯⠹⠹⡡⢷⢒⣭⣴⠡⠛⠀⢿⡹⠾⢟⠧⣲⠿⢺⠣⢳⣶⠠⣡⠐⡠⢆⢠⡠⠳⠥⠈⢝⣳⣢⠓⠤⡄⎥\n",
       "⎢⡬⣎⢽⡼⣈⣿⢰⣨⣗⣒⠥⣄⢢⢠⢀⠻⠺⠛⢞⣣⡒⢗⠤⣂⢻⣶⡸⢐⢛⢖⢋⠨⢅⡀⠊⢟⣬⢬⠀⢤⎥\n",
       "⎢⡀⢃⣸⣼⡓⡕⢗⣈⡝⣯⣁⠬⡀⣝⡅⡍⠑⣂⢨⠜⡒⣗⠠⡠⠒⢊⠿⣧⡀⡀⣠⡇⠄⠀⡰⣅⢆⡀⢈⠈⎥\n",
       "⎢⠞⢕⠗⢗⢦⢍⡾⠔⠣⠞⡔⡎⠰⡽⠥⡸⢓⢗⠊⢼⠾⡭⠘⣑⢻⢔⠁⠨⠿⣿⣚⠎⣐⠣⠤⢪⢼⠅⠰⠄⎥\n",
       "⎢⣦⠚⢾⣆⣏⢕⣿⢮⢺⠘⢞⣬⣭⣣⡀⠲⢶⡎⠳⢿⢸⠄⢤⡊⡛⡰⠤⠾⡾⠘⡿⢏⡀⡁⢄⣘⢝⢝⠸⠴⎥\n",
       "⎢⢠⠄⣼⡌⠙⠽⡁⠔⠞⡳⡁⠃⠂⠁⢡⡌⠚⢤⢠⠬⢀⠶⠁⠃⠁⠱⠀⠁⠴⡘⠀⠨⠻⣦⠀⠱⠐⠂⠀⠠⎥\n",
       "⎢⠼⠄⠧⠼⣶⣆⢀⠋⢀⢋⠈⢃⣦⢉⡈⢣⡠⠑⡐⢫⡁⠠⠷⣱⣮⢄⠔⢦⡠⢃⣀⢰⢄⡀⡻⢎⣖⢪⡀⡄⎥\n",
       "⎢⠀⡣⠳⢒⣶⣭⠹⡐⢲⡘⠌⢚⢈⣳⣂⢱⠼⠶⣽⡺⣠⠽⢬⡚⡂⣟⡘⠑⠾⠗⣗⢍⠰⠀⡸⣙⢿⣷⣄⣂⎥\n",
       "⎣⠦⡾⣴⢴⡼⣼⢀⠂⡗⣂⠆⢵⠤⠀⡄⠦⠠⢦⣜⢖⠺⠦⠀⠧⠀⣄⡂⠐⠐⠄⢒⡄⠀⡀⠀⠬⠠⢹⠻⣶⎦"
      ]
     },
     "metadata": {},
     "output_type": "display_data"
    }
   ],
   "source": [
    "df, sparse_index, road_index, node_ids = OSMXGraph.create_road_graph(\"Ochota.osm\", road_types,\"Ochota_graph.csv\",\"Ochota_nodes.json\",dir_in=dir_in,dir_out=dir_out)\n",
    "sparse_index"
   ]
  },
  {
   "cell_type": "markdown",
   "id": "f079f651",
   "metadata": {},
   "source": [
    "2. **Generate node2vec walks**  \n",
    "   Create biased random walks with the \\(p,q\\) scheme using  *`generate_corpus`*.\n",
    "\n",
    "   The walk generator is implemented with 4 functions:\n",
    "\n",
    "* `get_neighbors_info`: Returns *views* over the target IDs and edge weights for one column of the sparse adjacency matrix.\n",
    "\n",
    "* `generate_first_move`: Samples the **first hop** from the start node (unbiased).\n",
    "\n",
    "* `generate_biased_move`: Samples every **subsequent hop** with the node2vec bias:<br> • 1 / *p* if the candidate node is the previous vertex (return)<br> • weight      if the candidate is a neighbour of the previous vertex (stay close)<br> • 1 / *q* otherwise (explore further). \n",
    "* `generate_path`: Combines the two helpers above to build one complete walk of length *ℓ*. \n",
    "\n",
    "* `generate_corpus(n_paths, ℓ, A, p, q)`**, does the following for each of the *n_paths* walks:\n",
    "\n",
    "   1. **Choose a random start node** (`rand(1:nv(A))`).  \n",
    "   2. **First hop** → `next = generate_first_move(start, A)`  \n",
    "      *If the start node is a sink, the walk ends immediately.*  \n",
    "   3. **Remaining hops** (`ℓ‑2` iterations)  \n",
    "      next = generate_biased_move(curr, prev, A, p, q)\n",
    "      *Stops early if the current node has no out‑neighbours.*  \n",
    "   4. **Store the walk** as one row in an `(n_paths × ℓ)` integer matrix, padding with zeros when a walk ended early.\n"
   ]
  },
  {
   "cell_type": "code",
   "execution_count": 4,
   "id": "6620bc31",
   "metadata": {},
   "outputs": [
    {
     "data": {
      "text/plain": [
       "10×5 Matrix{Int64}:\n",
       " 6547   947  6544   947  6544\n",
       " 5587  5586  5587  5586  1006\n",
       " 2959  2830  2959  2960  2959\n",
       " 6678   485  7587  1839  3312\n",
       " 1156  3294  3252  3246  3252\n",
       " 8047  8049   985  5924   984\n",
       " 1468  5935  5940  5938  5940\n",
       " 5186  7726  7724  7726  7724\n",
       " 2354    14  2354  2783  2354\n",
       " 5389  5387  5389  5387  5389"
      ]
     },
     "metadata": {},
     "output_type": "display_data"
    }
   ],
   "source": [
    "corp = generate_corpus(10,5,sparse_index,0.3,0.4)"
   ]
  },
  {
   "cell_type": "markdown",
   "id": "67375795",
   "metadata": {},
   "source": [
    "3. **Train skip‑gram embeddings**  \n",
    "   Feed the walk corpus to `Word2Vec.word2vec` and let the C backend learn the vectors.  \n"
   ]
  },
  {
   "cell_type": "code",
   "execution_count": 17,
   "id": "a4cc19b0",
   "metadata": {},
   "outputs": [
    {
     "name": "stdout",
     "output_type": "stream",
     "text": [
      "Starting training using file walks.txt\n",
      "Vocab size: 1\n",
      "Words in train file: 10\n"
     ]
    },
    {
     "data": {
      "text/plain": [
       "\"\""
      ]
     },
     "metadata": {},
     "output_type": "display_data"
    }
   ],
   "source": [
    "open(\"walks.txt\", \"w\") do io\n",
    "    for walk in eachrow(corp)\n",
    "        println(io, join(string.(walk), ' '))\n",
    "    end\n",
    "end\n",
    "\n",
    "model = word2vec(\"walks.txt\",\"out.bin\", cbow = 0)\n",
    "\"\""
   ]
  },
  {
   "cell_type": "markdown",
   "id": "9380e7df",
   "metadata": {},
   "source": [
    "### Aknowledgments\n",
    "\n",
    "This research was funded by National Science Centre, Poland, grant number 2021/41/B/HS4/03349\n",
    "The module builds upon two different packages for manipulating OpenStreetMap data: OpenStreetMapX.jl (https://github.com/pszufe/OpenStreetMapX.jl) and OSMXGraph.jl (https://github.com/AdamKasinski/OSMXGraph.jl). "
   ]
  }
 ],
 "metadata": {
  "kernelspec": {
   "display_name": "Julia 1.11.6",
   "language": "julia",
   "name": "julia-1.11"
  },
  "language_info": {
   "file_extension": ".jl",
   "mimetype": "application/julia",
   "name": "julia",
   "version": "1.11.6"
  }
 },
 "nbformat": 4,
 "nbformat_minor": 5
}
